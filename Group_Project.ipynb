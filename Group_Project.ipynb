{
  "nbformat": 4,
  "nbformat_minor": 0,
  "metadata": {
    "colab": {
      "provenance": []
    },
    "kernelspec": {
      "name": "python3",
      "display_name": "Python 3"
    },
    "language_info": {
      "name": "python"
    }
  },
  "cells": [
    {
      "cell_type": "markdown",
      "source": [],
      "metadata": {
        "id": "zLoPy4VU9Pk7"
      }
    },
    {
      "cell_type": "code",
      "execution_count": 1,
      "metadata": {
        "id": "0accXxWr5Rxv",
        "colab": {
          "base_uri": "https://localhost:8080/",
          "height": 223
        },
        "outputId": "e616101f-c543-43c7-e4ab-2d2e3d68838a"
      },
      "outputs": [
        {
          "output_type": "error",
          "ename": "error",
          "evalue": "ignored",
          "traceback": [
            "\u001b[0;31m---------------------------------------------------------------------------\u001b[0m",
            "\u001b[0;31merror\u001b[0m                                     Traceback (most recent call last)",
            "\u001b[0;32m<ipython-input-1-ca288a345d26>\u001b[0m in \u001b[0;36m<cell line: 7>\u001b[0;34m()\u001b[0m\n\u001b[1;32m      5\u001b[0m \u001b[0mfilename\u001b[0m \u001b[0;34m=\u001b[0m \u001b[0;34m\"https://github.com/IronBanes/MLProject/blob/main/archive/images/Cars1.png\"\u001b[0m\u001b[0;34m\u001b[0m\u001b[0;34m\u001b[0m\u001b[0m\n\u001b[1;32m      6\u001b[0m \u001b[0mcar_img\u001b[0m \u001b[0;34m=\u001b[0m \u001b[0mcv\u001b[0m\u001b[0;34m.\u001b[0m\u001b[0mimread\u001b[0m\u001b[0;34m(\u001b[0m\u001b[0mfilename\u001b[0m\u001b[0;34m)\u001b[0m\u001b[0;34m\u001b[0m\u001b[0;34m\u001b[0m\u001b[0m\n\u001b[0;32m----> 7\u001b[0;31m \u001b[0mcar_img\u001b[0m \u001b[0;34m=\u001b[0m \u001b[0mcv\u001b[0m\u001b[0;34m.\u001b[0m\u001b[0mcvtColor\u001b[0m\u001b[0;34m(\u001b[0m\u001b[0mcar_img\u001b[0m\u001b[0;34m,\u001b[0m \u001b[0mcv\u001b[0m\u001b[0;34m.\u001b[0m\u001b[0mCOLOR_BGR2RGB\u001b[0m\u001b[0;34m)\u001b[0m\u001b[0;34m\u001b[0m\u001b[0;34m\u001b[0m\u001b[0m\n\u001b[0m\u001b[1;32m      8\u001b[0m \u001b[0mplt\u001b[0m\u001b[0;34m.\u001b[0m\u001b[0mimshow\u001b[0m\u001b[0;34m(\u001b[0m\u001b[0mcar_img\u001b[0m\u001b[0;34m)\u001b[0m\u001b[0;34m\u001b[0m\u001b[0;34m\u001b[0m\u001b[0m\n",
            "\u001b[0;31merror\u001b[0m: OpenCV(4.7.0) /io/opencv/modules/imgproc/src/color.cpp:182: error: (-215:Assertion failed) !_src.empty() in function 'cvtColor'\n"
          ]
        }
      ],
      "source": [
        "import cv2 as cv\n",
        "import numpy as np\n",
        "from matplotlib import pyplot as plt\n",
        "import imutils\n",
        "filename = \"https://github.com/IronBanes/MLProject/blob/main/archive/images/Cars1.png\"\n",
        "car_img = cv.imread(filename)\n",
        "car_img = cv.cvtColor(car_img, cv.COLOR_BGR2RGB)\n",
        "plt.imshow(car_img)"
      ]
    },
    {
      "cell_type": "code",
      "source": [
        "gray_mono = cv.cvtColor(car_img,cv.COLOR_RGB2GRAY)\n",
        "plt.imshow(gray_mono, cmap='gray', vmin=0, vmax=255)"
      ],
      "metadata": {
        "id": "qNlCXG4DAwXk"
      },
      "execution_count": null,
      "outputs": []
    },
    {
      "cell_type": "code",
      "source": [
        "blurred_gray = cv.bilateralFilter(gray_mono, 10, 50, 50)\n",
        "plt.imshow(blurred_gray, cmap='gray', vmin=0, vmax=255)"
      ],
      "metadata": {
        "id": "DSJGCMXnPuNl"
      },
      "execution_count": null,
      "outputs": []
    },
    {
      "cell_type": "code",
      "source": [
        "\n",
        "\n",
        "edged = cv.Canny(blurred_gray, 140, 200) \n",
        "print(edged.shape)\n",
        "plt.imshow(edged, cmap='gray', vmin=0, vmax=255)\n",
        "\n"
      ],
      "metadata": {
        "id": "IxtEYiFfA5hg"
      },
      "execution_count": null,
      "outputs": []
    },
    {
      "cell_type": "code",
      "source": [
        "contours = cv.findContours(edged.copy(), cv.RETR_TREE,cv.CHAIN_APPROX_SIMPLE)\n",
        "contours = imutils.grab_contours(contours)\n",
        "\n",
        "contours = sorted(contours,key=cv.contourArea, reverse = True)[:10]\n",
        "screenCnt = None\n",
        "\n",
        "for c in contours:\n",
        "    \n",
        "    peri = cv.arcLength(c, True)\n",
        "    print(peri)\n",
        "    approx = cv.approxPolyDP(c, 0.018 * peri, True)\n",
        "    print(approx)\n",
        "    if len(approx) == 4:\n",
        "        screenCnt = approx\n",
        "        break\n",
        "\n",
        "if screenCnt is None:\n",
        "    detected = 0\n",
        "    print (\"No License Plate Detected\")\n",
        "else:\n",
        "     detected = 1\n",
        "\n",
        "if detected == 1:\n",
        "    cv.drawContours(car_img, [screenCnt], -1, (0, 0, 255), 3)\n",
        "    \n",
        "    mask = np.zeros(gray_mono.shape,np.uint8)\n",
        "    new_image = cv.drawContours(mask,[screenCnt],0,255,-1,)\n",
        "    new_image = cv.bitwise_and(car_img,car_img,mask=mask)\n",
        "    plt.imshow(new_image)"
      ],
      "metadata": {
        "id": "Z2QNBy7KA7g5"
      },
      "execution_count": null,
      "outputs": []
    }
  ]
}